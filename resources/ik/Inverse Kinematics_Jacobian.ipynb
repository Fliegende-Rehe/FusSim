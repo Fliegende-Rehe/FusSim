{
 "cells": [
  {
   "cell_type": "code",
   "execution_count": 1,
   "metadata": {},
   "outputs": [],
   "source": [
    "import sympy as sp\n",
    "import numpy as np\n",
    "\n",
    "\n",
    "def Rx(q):\n",
    "    return sp.Matrix([[1, 0, 0, 0],\n",
    "                      [0, sp.cos(q), -sp.sin(q), 0],\n",
    "                      [0, sp.sin(q), sp.cos(q), 0],\n",
    "                      [0, 0, 0, 1]])\n",
    "\n",
    "\n",
    "def Ry(q):\n",
    "    return sp.Matrix([[sp.cos(q), 0, sp.sin(q), 0],\n",
    "                      [0, 1, 0, 0],\n",
    "                      [-sp.sin(q), 0, sp.cos(q), 0],\n",
    "                      [0, 0, 0, 1]])\n",
    "\n",
    "\n",
    "def Rz(q):\n",
    "    return sp.Matrix([[sp.cos(q), -sp.sin(q), 0, 0],\n",
    "                      [sp.sin(q), sp.cos(q), 0, 0],\n",
    "                      [0, 0, 1, 0],\n",
    "                      [0, 0, 0, 1]])\n",
    "\n",
    "\n",
    "def Tx(d):\n",
    "    return sp.Matrix([[1, 0, 0, d],\n",
    "                      [0, 1, 0, 0],\n",
    "                      [0, 0, 1, 0],\n",
    "                      [0, 0, 0, 1]])\n",
    "\n",
    "\n",
    "def Ty(d):\n",
    "    return sp.Matrix([[1, 0, 0, 0],\n",
    "                      [0, 1, 0, d],\n",
    "                      [0, 0, 1, 0],\n",
    "                      [0, 0, 0, 1]])\n",
    "\n",
    "\n",
    "def Tz(d):\n",
    "    return sp.Matrix([[1, 0, 0, 0],\n",
    "                      [0, 1, 0, 0],\n",
    "                      [0, 0, 1, d],\n",
    "                      [0, 0, 0, 1]])\n",
    "\n",
    "\n",
    "q1, q2, q3, q4, q5 = sp.symbols('q1 q2 q3 q4 q5')\n",
    "d1, d2, d3, d4, d5, d6, d7, d8, d9, d10, d11 = sp.symbols(\n",
    "    'd1 d2 d3 d4 d5 d6 d7 d8 d9 d10 d11')\n"
   ]
  },
  {
   "cell_type": "code",
   "execution_count": 2,
   "metadata": {},
   "outputs": [],
   "source": [
    "def compute_Jacobian(T_matr, joints):\n",
    "    pos = T_matr#[:3, 3]\n",
    "    J = []\n",
    "    for p in pos:\n",
    "        Ji = []\n",
    "        for j in joints:\n",
    "            Ji.append(sp.diff(p, j))  # .simplify())\n",
    "        J.append(Ji)\n",
    "    J = sp.Matrix(J)\n",
    "    return J\n",
    "\n",
    "def inverse_Jacobian(J, qi):\n",
    "    return sp.Matrix(np.linalg.pinv(J(float(qi[0]), float(qi[1]),\n",
    "                                     float(qi[2]), float(qi[3]), float(qi[4]))))\n",
    "\n",
    "def compute_error(des_pos, f, q, qi):\n",
    "    vect = des_pos - sp.Matrix(f(float(qi[0]), float(qi[1]),\n",
    "                                 float(qi[2]), float(qi[3]), float(qi[4])))\n",
    "    angle = sp.Matrix([q(float(qi[0]), float(qi[1]),\n",
    "                        float(qi[2]), float(qi[3]), float(qi[4]))]) \n",
    "    error = vect.row_insert(4, angle)\n",
    "    dist = sp.sqrt(vect.dot(vect)).evalf()\n",
    "    unit_dist = np.abs(angle[0])\n",
    "    return dist, unit_dist, error\n",
    "\n",
    "\n",
    "def inverse_kinematics(f, q, init_angle, des_pos, J, dt=0.001, Kp=10, max_dist=0.1):    \n",
    "    dist_arr, vectors_arr = [], []\n",
    "    qi = init_angle\n",
    "    dist, unit_dist, error = compute_error(des_pos, f, q, qi)\n",
    "    dist_arr.append(dist)\n",
    "    vectors_arr.append(unit_dist)\n",
    "    while dist > max_dist or unit_dist > 10**(-5):\n",
    "        \n",
    "        Jinv = inverse_Jacobian(J, qi)\n",
    "        qi = (qi + dt * Jinv * Kp * (error)).evalf()\n",
    "        dist, unit_dist, error = compute_error(des_pos, f, q, qi)\n",
    "        \n",
    "        print(f\"{dist = }, {unit_dist = }, {len(vectors_arr) = }\", end='\\r')\n",
    "        dist_arr.append(dist)\n",
    "        vectors_arr.append(unit_dist)\n",
    "    \n",
    "    return qi, dist_arr, vectors_arr\n"
   ]
  },
  {
   "cell_type": "code",
   "execution_count": 5,
   "metadata": {},
   "outputs": [
    {
     "data": {
      "text/latex": [
       "$\\displaystyle \\left[\\begin{matrix}0 & 1 & 0 & -610\\\\-1 & 0 & 0 & 225\\\\0 & 0 & 1 & 255\\\\0 & 0 & 0 & 1\\end{matrix}\\right]$"
      ],
      "text/plain": [
       "Matrix([\n",
       "[ 0, 1, 0, -610],\n",
       "[-1, 0, 0,  225],\n",
       "[ 0, 0, 1,  255],\n",
       "[ 0, 0, 0,    1]])"
      ]
     },
     "execution_count": 5,
     "metadata": {},
     "output_type": "execute_result"
    }
   ],
   "source": [
    "q1m, q2m = sp.rad(30), sp.rad(-30)\n",
    "l1 = 128\n",
    "l2 = 175.5\n",
    "l3 = 157.1\n",
    "l4 = 145\n",
    "# l5 = 80\n",
    "d1 = 320.5\n",
    "d2 = 130.5\n",
    "d3 = 60\n",
    "d4 = 60\n",
    "\n",
    "T_base_0 = Rz(q1m) * Tz(l1) * Ty(l2) * Ry(q2m) * Tz(l3)\n",
    "T01 = Ry(q1) * Ty(l4)\n",
    "T12 = Rx(q2) * Tx(-d1)\n",
    "T23 = Rz(q3) * Tx(-d2)\n",
    "T34 = Rz(q4) * Tx(-d2)\n",
    "T45 = Rz(q5) * Tx(-d4) * Tz(d3)\n",
    "\n",
    "# Full transformation to end-effector\n",
    "T05 = (T_base_0 * T01 * T12 * T23 * T34 * T45)#.applyfunc(sp.simplify)\n",
    "f = T05[:3,3] # sp.simplify(T05[:3,3])\n",
    "\n",
    "tx = -610\n",
    "ty = 225\n",
    "tz = 255\n",
    "hole_ang = sp.rad(-90)\n",
    "T_hole = Tx(tx) * Ty(ty) * Tz(tz) * Rz(hole_ang)\n",
    "\n",
    "des_pos = T_hole[:3, 3]\n",
    "des_or = T_hole[:3, 0]\n",
    "q = 1 - (des_or.dot(T05[:3,0])) # sp.simplify(T05[:3,0])\n",
    "\n",
    "joints = [q1, q2, q3, q4, q5]\n",
    "J_dist = compute_Jacobian(f, joints)\n",
    "J_angl = des_or.T * (compute_Jacobian(T05[:3, 0], joints))\n",
    "J = sp.lambdify((q1, q2, q3, q4, q5), J_dist.row_insert(4, J_angl))\n",
    "\n",
    "f_lambd = sp.lambdify((q1, q2, q3, q4, q5), f)\n",
    "q_lambd = sp.lambdify((q1, q2, q3, q4, q5), q)\n",
    "init_angle = sp.Matrix([np.deg2rad(0.00001)\n",
    "                       for _ in range(len(joints))]).evalf()\n",
    "T_hole\n",
    "\n",
    "\n",
    "\n",
    "# def rot2eul(matrix):\n",
    "#     alpha = sp.atan2(matrix[0, 2], -matrix[1, 2])\n",
    "#     beta = sp.acos(matrix[2, 2])\n",
    "#     gamma = sp.atan2(matrix[2, 0], matrix[2, 1])\n",
    "#     return sp.Matrix([alpha, beta, gamma])\n",
    "\n",
    "# target_vector = 1 - (target_orientation.dot(current_orientation))\n",
    "# self.target_vector = sp.lambdify([thetas, target], target_vector)\n",
    "#\n",
    "# J_dist = jacobian_matrix(current_position, thetas)\n",
    "# J_angl = target_orientation.T * (jacobian_matrix(current_orientation, thetas))\n",
    "# self.jacobian = sp.lambdify([thetas, target], J_dist.row_insert(4, J_angl))\n"
   ]
  },
  {
   "cell_type": "code",
   "execution_count": 19,
   "metadata": {},
   "outputs": [
    {
     "name": "stdout",
     "output_type": "stream",
     "text": [
      "dist = 0.00157350948984733, unit_dist = 9.96536318476071e-6, len(vectors_arr) = 1186\n",
      "36.5940608129210\n",
      "-176.037184700423\n",
      "130.496418976371\n",
      "-119.709556944093\n",
      "109.203794167301\n"
     ]
    }
   ],
   "source": [
    "q_sol_arr, dist_arr, vectors_arr = inverse_kinematics(\n",
    "    f_lambd, q_lambd, init_angle, des_pos, J)\n",
    "\n",
    "q_sol_arr = [q for q in q_sol_arr]\n",
    "\n",
    "print()\n",
    "new_q_sol_arr = []\n",
    "for a in q_sol_arr:\n",
    "    a = a % (2 * sp.pi)    # force in range [0, 2 pi)\n",
    "    if a > sp.pi:             # to [-pi, pi)\n",
    "        a -= 2 * sp.pi\n",
    "    print(sp.deg(a).evalf())\n",
    "    new_q_sol_arr.append(a)\n"
   ]
  },
  {
   "cell_type": "code",
   "execution_count": 25,
   "metadata": {},
   "outputs": [
    {
     "data": {
      "image/png": "[encoded data removed]",
      "text/plain": [
       "<Figure size 432x288 with 1 Axes>"
      ]
     },
     "metadata": {
      "needs_background": "light"
     },
     "output_type": "display_data"
    }
   ],
   "source": [
    "import matplotlib.pyplot as plt\n",
    "\n",
    "plt.plot(dist_arr, label=\"Distance to point\")\n",
    "plt.plot(vectors_arr, label=\"Vector alignment\")\n",
    "plt.ylim(-1,10)\n",
    "plt.legend()\n",
    "plt.grid()\n"
   ]
  },
  {
   "cell_type": "code",
   "execution_count": 7,
   "metadata": {},
   "outputs": [
    {
     "data": {
      "text/latex": [
       "$\\displaystyle \\left[\\begin{matrix}0.00443432840591081 & 0.959844780030074 & -0.280496586397422 & -609.999343131182\\\\-0.999990082018431 & 0.00437284226001739 & -0.000845053453930078 & 224.999396130379\\\\0.000415447180188134 & 0.280497551681984 & 0.959854650925886 & 215.000122642647\\\\0 & 0 & 0 & 1.0\\end{matrix}\\right]$"
      ],
      "text/plain": [
       "Matrix([\n",
       "[ 0.00443432840591081,   0.959844780030074,    -0.280496586397422, -609.999343131182],\n",
       "[  -0.999990082018431, 0.00437284226001739, -0.000845053453930078,  224.999396130379],\n",
       "[0.000415447180188134,   0.280497551681984,     0.959854650925886,  215.000122642647],\n",
       "[                   0,                   0,                     0,               1.0]])"
      ]
     },
     "execution_count": 7,
     "metadata": {},
     "output_type": "execute_result"
    }
   ],
   "source": [
    "T05.subs({q: new_q_sol_arr[i] for i, q in enumerate(joints)}).evalf()"
   ]
  }
 ],
 "metadata": {
  "kernelspec": {
   "display_name": "Python 3",
   "language": "python",
   "name": "python3"
  },
  "language_info": {
   "codemirror_mode": {
    "name": "ipython",
    "version": 3
   },
   "file_extension": ".py",
   "mimetype": "text/x-python",
   "name": "python",
   "nbconvert_exporter": "python",
   "pygments_lexer": "ipython3",
   "version": "3.9.13"
  },
  "orig_nbformat": 4
 },
 "nbformat": 4,
 "nbformat_minor": 2
}
